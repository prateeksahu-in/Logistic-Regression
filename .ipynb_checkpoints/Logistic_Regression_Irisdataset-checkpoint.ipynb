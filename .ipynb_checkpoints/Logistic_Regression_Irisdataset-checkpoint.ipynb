{
 "cells": [
  {
   "cell_type": "code",
   "execution_count": 1,
   "id": "3d455080",
   "metadata": {},
   "outputs": [
    {
     "name": "stdout",
     "output_type": "stream",
     "text": [
      "[1]\n",
      "[[9.99250016e-01 7.49984089e-04]\n",
      " [9.99240201e-01 7.59799387e-04]\n",
      " [9.99230257e-01 7.69743043e-04]\n",
      " ...\n",
      " [3.08374822e-03 9.96916252e-01]\n",
      " [3.04400296e-03 9.96955997e-01]\n",
      " [3.00476842e-03 9.96995232e-01]]\n"
     ]
    },
    {
     "data": {
      "image/png": "[encoded data removed]",
      "text/plain": [
       "<Figure size 432x288 with 1 Axes>"
      ]
     },
     "metadata": {
      "needs_background": "light"
     },
     "output_type": "display_data"
    }
   ],
   "source": [
    "# Train a logistic regression classifier to predict whether a flower is iris virginica or not\n",
    "from sklearn import datasets\n",
    "from sklearn.linear_model import LogisticRegression\n",
    "import numpy as np\n",
    "import matplotlib.pyplot as plt\n",
    "iris = datasets.load_iris()\n",
    "# print(list(iris.keys()))\n",
    "# print(iris['data'].shape)\n",
    "# print(iris['target'])\n",
    "# print(iris['DESCR'])\n",
    "\n",
    "X = iris[\"data\"][:, 3:]\n",
    "y = (iris[\"target\"] == 2).astype(np.int)\n",
    "\n",
    "# Train a logistic regression classifier\n",
    "clf = LogisticRegression()\n",
    "clf.fit(X,y)\n",
    "example = clf.predict(([[2.6]]))\n",
    "print(example)\n",
    "\n",
    "# Using matplotlib to plot the visualization\n",
    "X_new = np.linspace(0,3,1000).reshape(-1,1)\n",
    "y_prob = clf.predict_proba(X_new)\n",
    "print(y_prob)\n",
    "plt.plot(X_new, y_prob[:,1], \"g-\", label=\"virginica\")\n",
    "plt.show()\n",
    "\n",
    "\n",
    "# print(y)\n",
    "# print(iris[\"data\"])\n",
    "# print(X)\n",
    "\n"
   ]
  },
  {
   "cell_type": "code",
   "execution_count": null,
   "id": "b060b9c0",
   "metadata": {},
   "outputs": [],
   "source": []
  }
 ],
 "metadata": {
  "kernelspec": {
   "display_name": "Python 3",
   "language": "python",
   "name": "python3"
  },
  "language_info": {
   "codemirror_mode": {
    "name": "ipython",
    "version": 3
   },
   "file_extension": ".py",
   "mimetype": "text/x-python",
   "name": "python",
   "nbconvert_exporter": "python",
   "pygments_lexer": "ipython3",
   "version": "3.8.5"
  }
 },
 "nbformat": 4,
 "nbformat_minor": 5
}
